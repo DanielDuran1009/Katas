{
 "cells": [
  {
   "cell_type": "code",
   "execution_count": 1,
   "metadata": {},
   "outputs": [
    {
     "name": "stdout",
     "output_type": "stream",
     "text": [
      "On average, the Moon moves 4cm away from the Earth every year.\n",
      "The highest daylight temperature of the Moon is 127 C.\n",
      "Interesting facts about the Moon.\n",
      "The Moon is Earth's only satellite.\n",
      "There are several interesting facts about the Moon and how it affects life here on Earth.\n",
      "On average, the Moon moves 4cm away from the Earth every year.\n",
      "This yearly drift is not significant enough to cause immediate effects on Earth.\n",
      "The highest daylight temperature of the Moon is 127 Celsius.\n"
     ]
    }
   ],
   "source": [
    "text = \"\"\"Interesting facts about the Moon.\\nThe Moon is Earth's only satellite.\\nThere are several interesting facts about the Moon and how it affects life here on Earth.\\n\n",
    "On average, the Moon moves 4cm away from the Earth every year.\\nThis yearly drift is not significant enough to cause immediate effects on Earth.\\nThe highest daylight temperature of the Moon is 127 C.\"\"\"\n",
    "dividirTexto = text.split('\\n')\n",
    "dividirTexto\n",
    "palabrasclaves = ['average', 'temperature', 'distance']\n",
    "for sentencia in dividirTexto:\n",
    "    for palabraclave in palabrasclaves:\n",
    "        if palabraclave in sentencia:\n",
    "            print(sentencia)\n",
    "            break\n",
    "for sentencia in dividirTexto:\n",
    "    for palabraclave in palabraclave:\n",
    "        if palabraclave in sentencia:\n",
    "            print(sentencia.replace(' C', ' Celsius'))\n",
    "            break"
   ]
  }
 ],
 "metadata": {
  "interpreter": {
   "hash": "aee8b7b246df8f9039afb4144a1f6fd8d2ca17a180786b69acc140d282b71a49"
  },
  "kernelspec": {
   "display_name": "Python 3.10.2 64-bit",
   "language": "python",
   "name": "python3"
  },
  "language_info": {
   "codemirror_mode": {
    "name": "ipython",
    "version": 3
   },
   "file_extension": ".py",
   "mimetype": "text/x-python",
   "name": "python",
   "nbconvert_exporter": "python",
   "pygments_lexer": "ipython3",
   "version": "3.10.2"
  },
  "orig_nbformat": 4
 },
 "nbformat": 4,
 "nbformat_minor": 2
}
