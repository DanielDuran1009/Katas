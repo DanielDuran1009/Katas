{
 "cells": [
  {
   "cell_type": "code",
   "execution_count": 1,
   "metadata": {},
   "outputs": [
    {
     "name": "stdout",
     "output_type": "stream",
     "text": [
      "!!ALERTA!!, asteroide demasiado rapido\n"
     ]
    }
   ],
   "source": [
    "asteroide = 49\n",
    "if asteroide > 25:\n",
    "    print(\"!!ALERTA!!, asteroide demasiado rapido\")\n",
    "else:\n",
    "    print('Asteroide con velocidad bajo los limites')"
   ]
  },
  {
   "cell_type": "code",
   "execution_count": 2,
   "metadata": {},
   "outputs": [
    {
     "name": "stdout",
     "output_type": "stream",
     "text": [
      "El cometa no es visible\n"
     ]
    }
   ],
   "source": [
    "asteroide = 19\n",
    "if asteroide >= 20:\n",
    "    print(\"Abre los ojos, se puede ver el cometa\")\n",
    "elif asteroide == 20:\n",
    "    print(\"Abre los ojos, el cometa es visible\")\n",
    "else:\n",
    "    print(\"El cometa no es visible\")"
   ]
  },
  {
   "cell_type": "code",
   "execution_count": 3,
   "metadata": {},
   "outputs": [
    {
     "name": "stdout",
     "output_type": "stream",
     "text": [
      "ALERTA, asteroide dentro de limites de PELIGRO\n"
     ]
    }
   ],
   "source": [
    "velocidad_asteroide = 25\n",
    "tamaño_asteoride = 3000 \n",
    "if tamaño_asteoride > 25 and velocidad_asteroide >= 25:\n",
    "    print(\"ALERTA, asteroide dentro de limites de PELIGRO\")\n",
    "elif tamaño_asteoride < 25:\n",
    "    print(\"Sin peligro alguno\")\n",
    "elif velocidad_asteroide >= 20:\n",
    "    print(\"Abre los ojos, se puede ver el cometa\")\n",
    "else:\n",
    "    print(\"Sin peligro ni visibilidad\")"
   ]
  }
 ],
 "metadata": {
  "interpreter": {
   "hash": "aee8b7b246df8f9039afb4144a1f6fd8d2ca17a180786b69acc140d282b71a49"
  },
  "kernelspec": {
   "display_name": "Python 3.10.2 64-bit",
   "language": "python",
   "name": "python3"
  },
  "language_info": {
   "codemirror_mode": {
    "name": "ipython",
    "version": 3
   },
   "file_extension": ".py",
   "mimetype": "text/x-python",
   "name": "python",
   "nbconvert_exporter": "python",
   "pygments_lexer": "ipython3",
   "version": "3.10.2"
  },
  "orig_nbformat": 4
 },
 "nbformat": 4,
 "nbformat_minor": 2
}
