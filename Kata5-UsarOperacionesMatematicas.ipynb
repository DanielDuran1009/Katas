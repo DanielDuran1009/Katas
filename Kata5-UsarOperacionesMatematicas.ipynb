{
 "cells": [
  {
   "cell_type": "code",
   "execution_count": 4,
   "metadata": {},
   "outputs": [
    {
     "name": "stdout",
     "output_type": "stream",
     "text": [
      "628949330 km\n",
      "390577533.93 Millas\n"
     ]
    }
   ],
   "source": [
    "tierra = 149597870\n",
    "Jupiter = 778547200\n",
    "distancia = Jupiter - tierra \n",
    "print(str(distancia)+ \" km\")\n",
    "print(str(distancia * 0.621)+ \" Millas\")\n"
   ]
  },
  {
   "cell_type": "code",
   "execution_count": 8,
   "metadata": {},
   "outputs": [
    {
     "name": "stdout",
     "output_type": "stream",
     "text": [
      "78300000\n",
      "48624300.0\n"
     ]
    }
   ],
   "source": [
    "planetaUno = input('Introduce la distancia del sol para el planeta uno en KM')\n",
    "planetaDos = input('Introduce la distancia del sol para el planeta dos en KM')\n",
    "planetaUno = (int(planetaUno))\n",
    "planetaDos = (int(planetaDos))\n",
    "millas = 0.621\n",
    "respuestakilometros = planetaUno - planetaDos\n",
    "print(abs(respuestakilometros))\n",
    "respuestamillas = respuestakilometros * 0.621\n",
    "print(abs(respuestamillas))"
   ]
  }
 ],
 "metadata": {
  "interpreter": {
   "hash": "aee8b7b246df8f9039afb4144a1f6fd8d2ca17a180786b69acc140d282b71a49"
  },
  "kernelspec": {
   "display_name": "Python 3.10.2 64-bit",
   "language": "python",
   "name": "python3"
  },
  "language_info": {
   "codemirror_mode": {
    "name": "ipython",
    "version": 3
   },
   "file_extension": ".py",
   "mimetype": "text/x-python",
   "name": "python",
   "nbconvert_exporter": "python",
   "pygments_lexer": "ipython3",
   "version": "3.10.2"
  },
  "orig_nbformat": 4
 },
 "nbformat": 4,
 "nbformat_minor": 2
}
